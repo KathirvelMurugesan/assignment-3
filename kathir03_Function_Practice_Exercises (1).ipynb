{
  "cells": [
    {
      "cell_type": "markdown",
      "metadata": {
        "id": "5r5LFQhlEuAv"
      },
      "source": [
        "# Assignment 3 Functions\n",
        "\n",
        "Problems are arranged in increasing difficulty:\n",
        "* Warmup - these can be solved using basic comparisons and methods\n",
        "* Level 1 - these may involve if/then conditional statements and simple methods\n",
        "* Level 2 - these may require iterating over sequences, usually with some kind of loop\n",
        "* Challenging - these will take some creativity to solve"
      ]
    },
    {
      "cell_type": "markdown",
      "metadata": {
        "id": "NcWtBm9dEuAw"
      },
      "source": [
        "## WARMUP SECTION:"
      ]
    },
    {
      "cell_type": "markdown",
      "metadata": {
        "id": "g6hk8Nh8EuAw"
      },
      "source": [
        "#### LESSER OF TWO EVENS: Write a function that returns the lesser of two given numbers *if* both numbers are even, but returns the greater if one or both numbers are odd\n",
        "    lesser_of_two_evens(2,4) --> 2\n",
        "    lesser_of_two_evens(2,5) --> 5"
      ]
    },
    {
      "cell_type": "code",
      "execution_count": null,
      "metadata": {
        "collapsed": true,
        "id": "Y-_aWmXdEuAw"
      },
      "outputs": [],
      "source": [
        "def lesser_of_two_evens(a,b):\n",
        "    pass"
      ]
    },
    {
      "cell_type": "code",
      "execution_count": null,
      "metadata": {
        "collapsed": true,
        "id": "t6D9lvQ2EuAx"
      },
      "outputs": [],
      "source": [
        "# Check\n",
        "lesser_of_two_evens(2,4)"
      ]
    },
    {
      "cell_type": "code",
      "execution_count": null,
      "metadata": {
        "collapsed": true,
        "id": "7w9mJHHBEuAx"
      },
      "outputs": [],
      "source": [
        "# Check\n",
        "lesser_of_two_evens(2,5)"
      ]
    },
    {
      "cell_type": "markdown",
      "metadata": {
        "id": "Z7mm8kB5EuAx"
      },
      "source": [
        "#### ANIMAL CRACKERS: Write a function takes a two-word string and returns True if both words begin with same letter\n",
        "    animal_crackers('Levelheaded Llama') --> True\n",
        "    animal_crackers('Crazy Kangaroo') --> False"
      ]
    },
    {
      "cell_type": "code",
      "execution_count": null,
      "metadata": {
        "collapsed": true,
        "id": "HsWtO8qbEuAx"
      },
      "outputs": [],
      "source": [
        "def animal_crackers(text):\n",
        "    pass"
      ]
    },
    {
      "cell_type": "code",
      "execution_count": null,
      "metadata": {
        "collapsed": true,
        "id": "lmtyGtNgEuAx"
      },
      "outputs": [],
      "source": [
        "# Check\n",
        "animal_crackers('Levelheaded Llama')"
      ]
    },
    {
      "cell_type": "code",
      "execution_count": null,
      "metadata": {
        "collapsed": true,
        "id": "myDOvqEmEuAx"
      },
      "outputs": [],
      "source": [
        "# Check\n",
        "animal_crackers('Crazy Kangaroo')"
      ]
    },
    {
      "cell_type": "markdown",
      "metadata": {
        "id": "XX2vXu6BEuAx"
      },
      "source": [
        "**Question 4\n",
        "Use a list comprehension to create a list of squared numbers (n*n). The function receives the variables start and end, and returns a list of squares of consecutive numbers between start and end inclusively. For example, squares(2, 3) should return [4, 9]**"
      ]
    },
    {
      "cell_type": "code",
      "execution_count": null,
      "metadata": {
        "id": "_YjjpUNoEuAx"
      },
      "outputs": [],
      "source": [
        "def squares(start, end):\n",
        "    return # list comphrension here\n"
      ]
    },
    {
      "cell_type": "code",
      "execution_count": null,
      "metadata": {
        "id": "9fEr7LhuEuAx"
      },
      "outputs": [],
      "source": [
        "print(squares(2, 3)) # Should be [4, 9]\n",
        "print(squares(1, 5)) # Should be [1, 4, 9, 16, 25]\n",
        "print(squares(0, 10)) # Should be [0, 1, 4, 9, 16, 25, 36, 49, 64, 81, 100]"
      ]
    },
    {
      "cell_type": "markdown",
      "metadata": {
        "id": "BTlhCjVbEuAy"
      },
      "source": [
        "#### MAKES TWENTY: Given two integers, return True if the sum of the integers is 20 *or* if one of the integers is 20. If not, return False\n",
        "\n",
        "    makes_twenty(20,10) --> True\n",
        "    makes_twenty(12,8) --> True\n",
        "    makes_twenty(2,3) --> False"
      ]
    },
    {
      "cell_type": "code",
      "execution_count": null,
      "metadata": {
        "collapsed": true,
        "id": "LowkrFkTEuAy"
      },
      "outputs": [],
      "source": [
        "def makes_twenty(n1,n2):\n",
        "    pass"
      ]
    },
    {
      "cell_type": "code",
      "execution_count": null,
      "metadata": {
        "collapsed": true,
        "id": "8HjaNxlAEuAy"
      },
      "outputs": [],
      "source": [
        "# Check\n",
        "makes_twenty(20,10)"
      ]
    },
    {
      "cell_type": "code",
      "execution_count": null,
      "metadata": {
        "collapsed": true,
        "id": "T6G_7WfGEuAy"
      },
      "outputs": [],
      "source": [
        "# Check\n",
        "makes_twenty(2,3)"
      ]
    },
    {
      "cell_type": "markdown",
      "metadata": {
        "id": "fEwTLLlbEuAy"
      },
      "source": [
        "# LEVEL 1 PROBLEMS"
      ]
    },
    {
      "cell_type": "markdown",
      "metadata": {
        "id": "er7wGwHcEuAy"
      },
      "source": [
        "#### OLD MACDONALD: Write a function that capitalizes the first and fourth letters of a name\n",
        "     \n",
        "    old_macdonald('macdonald') --> MacDonald\n",
        "    \n",
        "Note: `'macdonald'.capitalize()` returns `'Macdonald'`"
      ]
    },
    {
      "cell_type": "code",
      "execution_count": 6,
      "metadata": {
        "collapsed": true,
        "colab": {
          "base_uri": "https://localhost:8080/"
        },
        "id": "X_BYFfBEEuAy",
        "outputId": "47fbba58-a943-44a9-98bb-ab01a208c39d"
      },
      "outputs": [
        {
          "output_type": "stream",
          "name": "stdout",
          "text": [
            "MacDonald\n"
          ]
        }
      ],
      "source": [
        "def old_macdonald(name):\n",
        "    def capitalize_name(name):\n",
        "        if len(name) >= 4:\n",
        "            # Capitalize the first and fourth letters\n",
        "            result = name[0].capitalize() + name[1:3] + name[3].capitalize() + name[4:]\n",
        "            return result\n",
        "        else:\n",
        "            # Handle names with less than four letters\n",
        "            return \"Name is too short.\"\n",
        "\n",
        "    # Example usage:\n",
        "    result = capitalize_name(name)\n",
        "    return result\n",
        "\n",
        "# Example usage:\n",
        "name = 'macdonald'\n",
        "result = old_macdonald(name)\n",
        "print(result)\n"
      ]
    },
    {
      "cell_type": "code",
      "execution_count": 3,
      "metadata": {
        "collapsed": true,
        "colab": {
          "base_uri": "https://localhost:8080/"
        },
        "id": "1_pOtFt3EuAy",
        "outputId": "176bbb1c-0017-41e4-9a60-846e49e8c6af"
      },
      "outputs": [
        {
          "output_type": "stream",
          "name": "stdout",
          "text": [
            "MacDonald\n"
          ]
        }
      ],
      "source": [
        "def old_macdonald(name):\n",
        "    if len(name) >= 4:\n",
        "        # Capitalize the first and fourth letters\n",
        "        result = name[0].capitalize() + name[1:3] + name[3].capitalize() + name[4:]\n",
        "        return result\n",
        "    else:\n",
        "        # Handle names with less than four letters\n",
        "        return \"Name is too short.\"\n",
        "\n",
        "# Example usage:\n",
        "name = 'macdonald'\n",
        "result = old_macdonald(name)\n",
        "print(result)\n"
      ]
    },
    {
      "cell_type": "markdown",
      "metadata": {
        "id": "yLLrHA80EuAy"
      },
      "source": [
        "#### MASTER YODA: Given a sentence, return a sentence with the words reversed\n",
        "\n",
        "    master_yoda('I am home') --> 'home am I'\n",
        "    master_yoda('We are ready') --> 'ready are We'\n",
        "    \n",
        "Note: The .join() method may be useful here. The .join() method allows you to join together strings in a list with some connector string. For example, some uses of the .join() method:\n",
        "\n",
        "    >>> \"--\".join(['a','b','c'])\n",
        "    >>> 'a--b--c'\n",
        "\n",
        "This means if you had a list of words you wanted to turn back into a sentence, you could just join them with a single space string:\n",
        "\n",
        "    >>> \" \".join(['Hello','world'])\n",
        "    >>> \"Hello world\""
      ]
    },
    {
      "cell_type": "code",
      "execution_count": 14,
      "metadata": {
        "collapsed": true,
        "colab": {
          "base_uri": "https://localhost:8080/"
        },
        "id": "QnqYs62NEuAy",
        "outputId": "87fbb6d4-57c2-4bea-ff47-fabd1b57ec0e"
      },
      "outputs": [
        {
          "output_type": "stream",
          "name": "stdout",
          "text": [
            "ready are We\n"
          ]
        }
      ],
      "source": [
        "def master_yoda(sentence):\n",
        "    # Split the sentence into words\n",
        "    words = sentence.split()\n",
        "\n",
        "    # Reverse the order of words\n",
        "    reversed_words = words[::-1]\n",
        "\n",
        "    # Join the reversed words into a sentence\n",
        "    reversed_sentence = \" \".join(reversed_words)\n",
        "\n",
        "    return reversed_sentence\n",
        "\n",
        "\n",
        "\n",
        "sentence2 = 'We are ready'\n",
        "result2 = master_yoda(sentence2)\n",
        "print(result2)\n"
      ]
    },
    {
      "cell_type": "code",
      "execution_count": 11,
      "metadata": {
        "collapsed": true,
        "colab": {
          "base_uri": "https://localhost:8080/"
        },
        "id": "eUaT-WEFEuAy",
        "outputId": "8f1295e1-306f-4fa9-e16c-436067cc3bf0"
      },
      "outputs": [
        {
          "output_type": "stream",
          "name": "stdout",
          "text": [
            "home am I\n"
          ]
        }
      ],
      "source": [
        "def master_yoda(sentence):\n",
        "    words = sentence.split()\n",
        "    reversed_words = words[::-1]\n",
        "    reversed_sentence = \" \".join(reversed_words)\n",
        "    return reversed_sentence\n",
        "\n",
        "result1 = master_yoda('I am home')\n",
        "print(result1)\n"
      ]
    },
    {
      "cell_type": "code",
      "execution_count": 15,
      "metadata": {
        "collapsed": true,
        "colab": {
          "base_uri": "https://localhost:8080/"
        },
        "id": "WEXc4mSkEuAy",
        "outputId": "e2bf2ddb-ffb2-41d2-fcd3-ad013e357bba"
      },
      "outputs": [
        {
          "output_type": "stream",
          "name": "stdout",
          "text": [
            "ready are We\n"
          ]
        }
      ],
      "source": [
        "sentence2 = 'We are ready'\n",
        "result2 = master_yoda(sentence2)\n",
        "print(result2)\n"
      ]
    },
    {
      "cell_type": "markdown",
      "metadata": {
        "id": "P6nJCtECEuAy"
      },
      "source": [
        "# #### ALMOST THERE: Given an integer n, return True if n is within 10 of either 100 or 200\n",
        "\n",
        "    almost_there(90) --> True\n",
        "    almost_there(104) --> True\n",
        "    almost_there(150) --> False\n",
        "    almost_there(209) --> True\n",
        "    \n",
        "NOTE: `abs(num)` returns the absolute value of a number"
      ]
    },
    {
      "cell_type": "code",
      "execution_count": 18,
      "metadata": {
        "collapsed": true,
        "colab": {
          "base_uri": "https://localhost:8080/"
        },
        "id": "HshtDFGYEuAy",
        "outputId": "e2bf80fc-bc84-488e-be3f-5305cbc27aa4"
      },
      "outputs": [
        {
          "output_type": "stream",
          "name": "stdout",
          "text": [
            "True\n",
            "True\n",
            "False\n",
            "True\n"
          ]
        }
      ],
      "source": [
        "def almost_there(n):\n",
        "    # Check if n is within 10 of either 100 or 200\n",
        "    return (abs(100 - n) <= 10) or (abs(200 - n) <= 10)\n",
        "\n",
        "# Example usage:\n",
        "print(almost_there(90))    # True\n",
        "\n",
        "\n"
      ]
    },
    {
      "cell_type": "code",
      "execution_count": 21,
      "metadata": {
        "collapsed": true,
        "colab": {
          "base_uri": "https://localhost:8080/"
        },
        "id": "DMGrGmr8EuAy",
        "outputId": "fa7d21b7-c9b9-4917-d1dc-905e3dbe71b0"
      },
      "outputs": [
        {
          "output_type": "stream",
          "name": "stdout",
          "text": [
            "True\n"
          ]
        }
      ],
      "source": [
        "def almost_there(n):\n",
        "    return (abs(100 - n) <= 10) or (abs(200 - n) <= 10)\n",
        "\n",
        "# Example usage:\n",
        "print(almost_there(104))"
      ]
    },
    {
      "cell_type": "code",
      "execution_count": 20,
      "metadata": {
        "collapsed": true,
        "colab": {
          "base_uri": "https://localhost:8080/"
        },
        "id": "vk69MmimEuAy",
        "outputId": "4818c2d6-8b0d-4246-be34-cce26bb559d4"
      },
      "outputs": [
        {
          "output_type": "stream",
          "name": "stdout",
          "text": [
            "False\n"
          ]
        }
      ],
      "source": [
        "# Check\n",
        "def almost_there(n):\n",
        "    return (abs(100 - n) <= 10) or (abs(200 - n) <= 10)\n",
        "print(almost_there(150))"
      ]
    },
    {
      "cell_type": "code",
      "execution_count": 22,
      "metadata": {
        "collapsed": true,
        "colab": {
          "base_uri": "https://localhost:8080/"
        },
        "id": "YEVol_juEuAy",
        "outputId": "1ec89cab-ed41-436c-8c28-ebc815427746"
      },
      "outputs": [
        {
          "output_type": "stream",
          "name": "stdout",
          "text": [
            "True\n"
          ]
        }
      ],
      "source": [
        "# Check\n",
        "def almost_there(n):\n",
        "    return (abs(100 - n) <= 10) or (abs(200 - n) <= 10)\n",
        "print(almost_there(209))\n"
      ]
    },
    {
      "cell_type": "markdown",
      "metadata": {
        "id": "XE5VhKpQEuAz"
      },
      "source": [
        "**The highlight_word function changes the given word in a sentence to its upper-case version. For example, highlight_word(\"Have a nice day\", \"nice\") returns \"Have a NICE day\". Can you write this function in just one line?**"
      ]
    },
    {
      "cell_type": "code",
      "execution_count": 23,
      "metadata": {
        "id": "Z2XMuCjxEuAz"
      },
      "outputs": [],
      "source": [
        "def highlight_word(sentence, word):\n",
        "    return sentence.replace(word, word.upper())"
      ]
    },
    {
      "cell_type": "code",
      "execution_count": 24,
      "metadata": {
        "colab": {
          "base_uri": "https://localhost:8080/"
        },
        "id": "8Gz2QcGDEuAz",
        "outputId": "b7defe24-72ba-4560-c3a9-d63835256abe"
      },
      "outputs": [
        {
          "output_type": "stream",
          "name": "stdout",
          "text": [
            "Have a NICE day\n",
            "Shhh, don't be so LOUD!\n",
            "Automating with Python is FUN\n"
          ]
        }
      ],
      "source": [
        "print(highlight_word(\"Have a nice day\", \"nice\"))\n",
        "# Have a NICE day\n",
        "print(highlight_word(\"Shhh, don't be so loud!\", \"loud\"))\n",
        "#Shhh, don't be so LOUD!\n",
        "print(highlight_word(\"Automating with Python is fun\", \"fun\"))\n",
        "#Automating with Python is FUN"
      ]
    },
    {
      "cell_type": "markdown",
      "metadata": {
        "id": "XZugASDhEuAz"
      },
      "source": [
        "**Complete the code to iterate through the keys and values of the car_prices dictionary, printing out some information about each one**"
      ]
    },
    {
      "cell_type": "code",
      "execution_count": 27,
      "metadata": {
        "colab": {
          "base_uri": "https://localhost:8080/"
        },
        "id": "DNEYLmoLEuAz",
        "outputId": "e68a7ef5-35ff-47d8-b91b-af727647ffd2"
      },
      "outputs": [
        {
          "output_type": "stream",
          "name": "stdout",
          "text": [
            "The price of Toyota is $20000.\n",
            "The price of Honda is $18000.\n",
            "The price of Ford is $22000.\n"
          ]
        }
      ],
      "source": [
        "car_prices = {'Toyota': 20000, 'Honda': 18000, 'Ford': 22000}\n",
        "\n",
        "for make, price in car_prices.items():\n",
        "    print(f\"The price of {make} is ${price}.\")\n"
      ]
    },
    {
      "cell_type": "markdown",
      "metadata": {
        "id": "ej8qDe9bEuAz"
      },
      "source": [
        "# LEVEL 2 PROBLEMS"
      ]
    },
    {
      "cell_type": "markdown",
      "metadata": {
        "id": "6FJSxYP2EuAz"
      },
      "source": [
        "#### FIND 33:\n",
        "\n",
        "Given a list of ints, return True if the array contains a 3 next to a 3 somewhere.\n",
        "\n",
        "    has_33([1, 3, 3]) → True\n",
        "    has_33([1, 3, 1, 3]) → False\n",
        "    has_33([3, 1, 3]) → False"
      ]
    },
    {
      "cell_type": "code",
      "execution_count": null,
      "metadata": {
        "collapsed": true,
        "id": "5gYdsf_-EuAz"
      },
      "outputs": [],
      "source": [
        "def has_33(nums):\n",
        "    pass"
      ]
    },
    {
      "cell_type": "code",
      "execution_count": null,
      "metadata": {
        "collapsed": true,
        "id": "lrU9rKvoEuAz"
      },
      "outputs": [],
      "source": [
        "# Check\n",
        "has_33([1, 3, 3])"
      ]
    },
    {
      "cell_type": "code",
      "execution_count": null,
      "metadata": {
        "collapsed": true,
        "id": "GHNevbG_EuA3"
      },
      "outputs": [],
      "source": [
        "# Check\n",
        "has_33([1, 3, 1, 3])"
      ]
    },
    {
      "cell_type": "code",
      "execution_count": null,
      "metadata": {
        "collapsed": true,
        "id": "i2IB8f0MEuA3"
      },
      "outputs": [],
      "source": [
        "# Check\n",
        "has_33([3, 1, 3])"
      ]
    },
    {
      "cell_type": "markdown",
      "metadata": {
        "id": "3AYbHQjSEuA3"
      },
      "source": [
        "#### PAPER DOLL: Given a string, return a string where for every character in the original there are three characters\n",
        "    paper_doll('Hello') --> 'HHHeeellllllooo'\n",
        "    paper_doll('Mississippi') --> 'MMMiiissssssiiippppppiii'"
      ]
    },
    {
      "cell_type": "code",
      "execution_count": null,
      "metadata": {
        "collapsed": true,
        "id": "BIJwkECREuA3"
      },
      "outputs": [],
      "source": [
        "def paper_doll(text):\n",
        "    pass"
      ]
    },
    {
      "cell_type": "code",
      "execution_count": null,
      "metadata": {
        "collapsed": true,
        "id": "3WjvdjqtEuA3"
      },
      "outputs": [],
      "source": [
        "# Check\n",
        "paper_doll('Hello')"
      ]
    },
    {
      "cell_type": "code",
      "execution_count": null,
      "metadata": {
        "collapsed": true,
        "id": "2pOXvBiiEuA3"
      },
      "outputs": [],
      "source": [
        "# Check\n",
        "paper_doll('Mississippi')"
      ]
    },
    {
      "cell_type": "markdown",
      "metadata": {
        "id": "FukqSqxMEuA3"
      },
      "source": [
        "#### BLACKJACK: Given three integers between 1 and 11, if their sum is less than or equal to 21, return their sum. If their sum exceeds 21 *and* there's an eleven, reduce the total sum by 10. Finally, if the sum (even after adjustment) exceeds 21, return 'BUST'\n",
        "    blackjack(5,6,7) --> 18\n",
        "    blackjack(9,9,9) --> 'BUST'\n",
        "    blackjack(9,9,11) --> 19"
      ]
    },
    {
      "cell_type": "code",
      "execution_count": null,
      "metadata": {
        "collapsed": true,
        "id": "2_oXwhHEEuA3"
      },
      "outputs": [],
      "source": [
        "def blackjack(a,b,c):\n",
        "    pass"
      ]
    },
    {
      "cell_type": "code",
      "execution_count": null,
      "metadata": {
        "collapsed": true,
        "id": "JGl87ql9EuA3"
      },
      "outputs": [],
      "source": [
        "# Check\n",
        "blackjack(5,6,7)"
      ]
    },
    {
      "cell_type": "code",
      "execution_count": null,
      "metadata": {
        "collapsed": true,
        "id": "HcNSF2fNEuA3"
      },
      "outputs": [],
      "source": [
        "# Check\n",
        "blackjack(9,9,9)"
      ]
    },
    {
      "cell_type": "code",
      "execution_count": null,
      "metadata": {
        "collapsed": true,
        "id": "M1VDULNvEuA3"
      },
      "outputs": [],
      "source": [
        "# Check\n",
        "blackjack(9,9,11)"
      ]
    },
    {
      "cell_type": "markdown",
      "metadata": {
        "id": "LsfNUQtXEuA3"
      },
      "source": [
        "#### SUMMER OF '69: Return the sum of the numbers in the array, except ignore sections of numbers starting with a 6 and extending to the next 9 (every 6 will be followed by at least one 9). Return 0 for no numbers.\n",
        "\n",
        "    summer_69([1, 3, 5]) --> 9\n",
        "    summer_69([4, 5, 6, 7, 8, 9]) --> 9\n",
        "    summer_69([2, 1, 6, 9, 11]) --> 14"
      ]
    },
    {
      "cell_type": "code",
      "execution_count": null,
      "metadata": {
        "collapsed": true,
        "id": "Ttso_rylEuA3"
      },
      "outputs": [],
      "source": [
        "def summer_69(arr):\n",
        "    pass"
      ]
    },
    {
      "cell_type": "code",
      "execution_count": null,
      "metadata": {
        "collapsed": true,
        "id": "J5xJHoJyEuA3"
      },
      "outputs": [],
      "source": [
        "# Check\n",
        "summer_69([1, 3, 5])"
      ]
    },
    {
      "cell_type": "code",
      "execution_count": null,
      "metadata": {
        "collapsed": true,
        "id": "29YbEEQhEuA3"
      },
      "outputs": [],
      "source": [
        "# Check\n",
        "summer_69([4, 5, 6, 7, 8, 9])"
      ]
    },
    {
      "cell_type": "code",
      "execution_count": null,
      "metadata": {
        "collapsed": true,
        "id": "oo6xIJoAEuA3"
      },
      "outputs": [],
      "source": [
        "# Check\n",
        "summer_69([2, 1, 6, 9, 11])"
      ]
    },
    {
      "cell_type": "markdown",
      "metadata": {
        "id": "1Bjl45A_EuA4"
      },
      "source": [
        "**Taylor and Rory are hosting a party. They sent out invitations, and each one collected responses into dictionaries, with names of their friends and how many guests each friend is bringing. Each dictionary is a partial list, but Rory's list has more current information about the number of guests. Fill in the blanks to combine both dictionaries into one, with each friend listed only once, and the number of guests from Rory's dictionary taking precedence, if a name is included in both dictionaries. Then print the resulting dictionary.**"
      ]
    },
    {
      "cell_type": "code",
      "execution_count": null,
      "metadata": {
        "id": "sGQjBxs1EuA4"
      },
      "outputs": [],
      "source": [
        "def combine_guests(guests1, guests2):\n",
        "  # Combine both dictionaries into one, with each key listed\n",
        "  # only once, and the value from guests1 taking precedence\n",
        "\n",
        "Rorys_guests = { \"Adam\":2, \"Brenda\":3, \"David\":1, \"Jose\":3, \"Charlotte\":2, \"Terry\":1, \"Robert\":4}\n",
        "Taylors_guests = { \"David\":4, \"Nancy\":1, \"Robert\":2, \"Adam\":1, \"Samantha\":3, \"Chris\":5}\n",
        "\n",
        "print(combine_guests(Rorys_guests, Taylors_guests))\n",
        "# shuld give {'David': 1, 'Nancy': 1, 'Robert': 4, 'Adam': 2, 'Samantha': 3, 'Chris': 5, 'Brenda': 3, 'Jose': 3, 'Charlotte': 2, 'Terry': 1}"
      ]
    },
    {
      "cell_type": "code",
      "execution_count": null,
      "metadata": {
        "id": "pWJnBD5HEuA4"
      },
      "outputs": [],
      "source": []
    },
    {
      "cell_type": "markdown",
      "metadata": {
        "id": "yqJKA9N4EuA4"
      },
      "source": [
        "# CHALLENGING PROBLEMS"
      ]
    },
    {
      "cell_type": "markdown",
      "metadata": {
        "id": "0LKYVPqIEuA4"
      },
      "source": [
        "#### SPY GAME: Write a function that takes in a list of integers and returns True if it contains 007 in order\n",
        "\n",
        "     spy_game([1,2,4,0,0,7,5]) --> True\n",
        "     spy_game([1,0,2,4,0,5,7]) --> True\n",
        "     spy_game([1,7,2,0,4,5,0]) --> False\n"
      ]
    },
    {
      "cell_type": "code",
      "execution_count": 40,
      "metadata": {
        "colab": {
          "base_uri": "https://localhost:8080/"
        },
        "id": "-ytsRQ0CEuA4",
        "outputId": "cc4c93b0-6c44-4a76-8023-de5d9a9c15b2"
      },
      "outputs": [
        {
          "output_type": "stream",
          "name": "stdout",
          "text": [
            "True\n",
            "True\n",
            "False\n"
          ]
        }
      ],
      "source": [
        "def spy_game(nums):\n",
        "    # Initialize variables to track the position of 0 and 7\n",
        "    zero1_found = False\n",
        "    zero2_found = False\n",
        "\n",
        "    # Iterate through the list\n",
        "    for num in nums:\n",
        "        if num == 0:\n",
        "            # Check if the first zero is found\n",
        "            zero1_found = True\n",
        "        elif num == 7 and zero1_found:\n",
        "            # Check if 7 is found after the first zero\n",
        "            zero2_found = True\n",
        "\n",
        "    # Check if both zeros and 7 are found in order\n",
        "    return zero1_found and zero2_found\n",
        "\n",
        "# Example usage:\n",
        "print(spy_game([1, 2, 4, 0, 0, 7, 5]))  # True\n",
        "print(spy_game([1, 0, 2, 4, 0, 5, 7]))  # True\n",
        "print(spy_game([1, 7, 2, 0, 4, 5, 0]))  # False\n",
        "\n",
        "\n"
      ]
    },
    {
      "cell_type": "code",
      "execution_count": 29,
      "metadata": {
        "colab": {
          "base_uri": "https://localhost:8080/"
        },
        "id": "NodxvcgTEuA4",
        "outputId": "cf4961c3-7e74-4edc-edd3-b30289d8647e"
      },
      "outputs": [
        {
          "output_type": "stream",
          "name": "stdout",
          "text": [
            "True\n"
          ]
        }
      ],
      "source": [
        "\n",
        "def spy_game(nums):\n",
        "    # Initialize variables to track the position of 0 and 7\n",
        "    zero1_found = False\n",
        "    zero2_found = False\n",
        "\n",
        "    # Iterate through the list\n",
        "    for num in nums:\n",
        "        if num == 0:\n",
        "            # Check if the first zero is found\n",
        "            zero1_found = True\n",
        "        elif num == 7 and zero1_found:\n",
        "            # Check if 7 is found after the first zero\n",
        "            zero2_found = True\n",
        "\n",
        "    # Check if both zeros and 7 are found in order\n",
        "    return zero1_found and zero2_found\n",
        "\n",
        "# Example usage:\n",
        "print(spy_game([1, 2, 4, 0, 0, 7, 5]))  # True"
      ]
    },
    {
      "cell_type": "code",
      "execution_count": 31,
      "metadata": {
        "collapsed": true,
        "colab": {
          "base_uri": "https://localhost:8080/"
        },
        "id": "I1na3NViEuA4",
        "outputId": "200defe5-ff60-4d00-c7d0-80788105876b"
      },
      "outputs": [
        {
          "output_type": "stream",
          "name": "stdout",
          "text": [
            "True\n"
          ]
        }
      ],
      "source": [
        "def spy_game(nums):\n",
        "    # Initialize variables to track the position of 0 and 7\n",
        "    zero1_found = False\n",
        "    zero2_found = False\n",
        "\n",
        "    # Iterate through the list\n",
        "    for num in nums:\n",
        "        if num == 0:\n",
        "            # Check if the first zero is found\n",
        "            zero1_found = True\n",
        "        elif num == 7 and zero1_found:\n",
        "            # Check if 7 is found after the first zero\n",
        "            zero2_found = True\n",
        "\n",
        "    # Check if both zeros and 7 are found in order\n",
        "    return zero1_found and zero2_found\n",
        "\n",
        "\n",
        "print(spy_game([1, 0, 2, 4, 0, 5, 7]))"
      ]
    },
    {
      "cell_type": "code",
      "execution_count": 35,
      "metadata": {
        "collapsed": true,
        "colab": {
          "base_uri": "https://localhost:8080/"
        },
        "id": "bmX3fdMaEuA4",
        "outputId": "d9455483-06a2-407b-d44a-681a35f437e9"
      },
      "outputs": [
        {
          "output_type": "stream",
          "name": "stdout",
          "text": [
            "False\n"
          ]
        }
      ],
      "source": [
        "def spy_game(nums):\n",
        "    zero1_found = False\n",
        "    zero2_found = False\n",
        "\n",
        "    # Iterate through the list\n",
        "    for num in nums:\n",
        "        if num == 0:\n",
        "            # Check if the first zero is found\n",
        "            zero1_found = True\n",
        "        elif num == 7 and zero1_found:\n",
        "            # Check if 7 is found after the first zero\n",
        "            zero2_found = True\n",
        "\n",
        "    # Check if both zeros and 7 are found in order\n",
        "    return zero1_found and zero2_found\n",
        "\n",
        "# Example usage:\n",
        "print(spy_game([1,7,2,0,4,5,0]))"
      ]
    },
    {
      "cell_type": "markdown",
      "metadata": {
        "id": "o2TI6KOMEuA4"
      },
      "source": [
        "#### COUNT PRIMES: Write a function that returns the *number* of prime numbers that exist up to and including a given number\n",
        "    count_primes(100) --> 25\n",
        "\n",
        "By convention, 0 and 1 are not prime."
      ]
    },
    {
      "cell_type": "code",
      "execution_count": 41,
      "metadata": {
        "collapsed": true,
        "colab": {
          "base_uri": "https://localhost:8080/"
        },
        "id": "8QM7064LEuA4",
        "outputId": "658ccd95-843a-4845-fce7-6e517882e1f5"
      },
      "outputs": [
        {
          "output_type": "stream",
          "name": "stdout",
          "text": [
            "25\n"
          ]
        }
      ],
      "source": [
        "def count_primes(num):\n",
        "    # Check if a number is prime\n",
        "    def is_prime(n):\n",
        "        if n < 2:\n",
        "            return False\n",
        "        for i in range(2, int(n**0.5) + 1):\n",
        "            if n % i == 0:\n",
        "                return False\n",
        "        return True\n",
        "\n",
        "    # Count prime numbers up to and including the given number\n",
        "    count = sum(1 for i in range(2, num + 1) if is_prime(i))\n",
        "    return count\n",
        "\n",
        "# Example usage:\n",
        "result = count_primes(100)\n",
        "print(result)  # Output: 25\n"
      ]
    },
    {
      "cell_type": "code",
      "execution_count": 42,
      "metadata": {
        "collapsed": true,
        "colab": {
          "base_uri": "https://localhost:8080/"
        },
        "id": "PjjKdTaREuA4",
        "outputId": "3a1598e4-a52f-45ad-9551-0e635b2fe768"
      },
      "outputs": [
        {
          "output_type": "execute_result",
          "data": {
            "text/plain": [
              "25"
            ]
          },
          "metadata": {},
          "execution_count": 42
        }
      ],
      "source": [
        "# Check\n",
        "count_primes(100)"
      ]
    },
    {
      "cell_type": "markdown",
      "metadata": {
        "id": "ehbpTYZwEuA4"
      },
      "source": [
        "### Just for fun:\n",
        "#### PRINT BIG: Write a function that takes in a single letter, and returns a 5x5 representation of that letter\n",
        "    print_big('a')\n",
        "    \n",
        "    out:   *  \n",
        "          * *\n",
        "         *****\n",
        "         *   *\n",
        "         *   *\n",
        "HINT: Consider making a dictionary of possible patterns, and mapping the alphabet to specific 5-line combinations of patterns. <br>For purposes of this exercise, it's ok if your dictionary stops at \"E\"."
      ]
    },
    {
      "cell_type": "code",
      "execution_count": 44,
      "metadata": {
        "collapsed": true,
        "colab": {
          "base_uri": "https://localhost:8080/"
        },
        "id": "WSV8_fWXEuA4",
        "outputId": "295da495-f49b-4dda-9cc0-a08119211dd2"
      },
      "outputs": [
        {
          "output_type": "stream",
          "name": "stdout",
          "text": [
            "  *  \n",
            " * * \n",
            "*****\n",
            "*   *\n",
            "*   *\n"
          ]
        }
      ],
      "source": [
        "def print_big(letter):\n",
        "    patterns = {\n",
        "        'a': ['  *  ', ' * * ', '*****', '*   *', '*   *'],\n",
        "        'b': ['**** ', '*   *', '**** ', '*   *', '**** '],\n",
        "        'c': [' ****', '*    ', '*    ', '*    ', ' ****'],\n",
        "        'd': ['**** ', '*   *', '*   *', '*   *', '**** '],\n",
        "        'e': ['*****', '*    ', '*****', '*    ', '*****'],\n",
        "    }\n",
        "\n",
        "    letter_lower = letter.lower()\n",
        "\n",
        "    if letter_lower in patterns:\n",
        "        for line in patterns[letter_lower]:\n",
        "            print(line)\n",
        "    else:\n",
        "        print(\"Letter not supported.\")\n",
        "\n",
        "# Example usage:\n",
        "print_big('a')\n"
      ]
    },
    {
      "cell_type": "code",
      "execution_count": 49,
      "metadata": {
        "collapsed": true,
        "colab": {
          "base_uri": "https://localhost:8080/"
        },
        "id": "OcKhMnaUEuA4",
        "outputId": "dc3fb55f-01ae-4ea1-84e6-68743b308ce1"
      },
      "outputs": [
        {
          "output_type": "stream",
          "name": "stdout",
          "text": [
            "  *  \n",
            " * * \n",
            "*****\n",
            "*   *\n",
            "*   *\n"
          ]
        }
      ],
      "source": [
        "def print_big(letter):\n",
        "    patterns = {\n",
        "        'a': ['  *  ', ' * * ', '*****', '*   *', '*   *'],\n",
        "        'b': ['**** ', '*   *', '**** ', '*   *', '**** '],\n",
        "        'c': [' ****', '*    ', '*    ', '*    ', ' ****'],\n",
        "        'd': ['**** ', '*   *', '*   *', '*   *', '**** '],\n",
        "        'e': ['*****', '*    ', '*****', '*    ', '*****'],\n",
        "    }\n",
        "\n",
        "    letter_lower = letter.lower()\n",
        "\n",
        "    if letter_lower in patterns:\n",
        "        for line in patterns[letter_lower]:\n",
        "            print(line)\n",
        "    else:\n",
        "        print(\"Letter not supported.\")\n",
        "\n",
        "# Example usage:\n",
        "print_big('a')\n",
        "\n"
      ]
    },
    {
      "cell_type": "markdown",
      "metadata": {
        "id": "crrX6xGJEuA4"
      },
      "source": [
        "**The format_address function separates out parts of the address string into new strings: house_number and street_name, and returns: \"house number X on street named Y\". The format of the input string is: numeric house number, followed by the street name which may contain numbers, but never by themselves, and could be several words long. For example, \"123 Main Street\", \"1001 1st Ave\", or \"55 North Center Drive\". Fill in the gaps to complete this function.**"
      ]
    },
    {
      "cell_type": "code",
      "execution_count": 56,
      "metadata": {
        "id": "9afjEy3DEuA4"
      },
      "outputs": [],
      "source": [
        "def format_address(address_string):\n",
        "    # Declare variables\n",
        "    house_number = \"\"\n",
        "    street_name = \"\"\n",
        "\n",
        "    # Separate the address string into parts\n",
        "    address_parts = address_string.split()\n",
        "\n",
        "    # Traverse through the address parts\n",
        "    for part in address_parts:\n",
        "        # Determine if the address part is the\n",
        "        # house number or part of the street name\n",
        "        if part.isdigit():\n",
        "            house_number = part\n",
        "        else:\n",
        "            street_name += part + \" \"\n",
        "\n",
        "    # Strip any extra spaces from the street name\n",
        "    street_name = street_name.strip()\n",
        "\n",
        "    # Return the formatted string\n",
        "    return f\"house number {house_number} on street named {street_name}\"\n"
      ]
    },
    {
      "cell_type": "code",
      "execution_count": 53,
      "metadata": {
        "colab": {
          "base_uri": "https://localhost:8080/"
        },
        "id": "l5L7Ya0DEuA4",
        "outputId": "00e4892f-58a2-40c4-8e87-b6717adddfc7"
      },
      "outputs": [
        {
          "output_type": "stream",
          "name": "stdout",
          "text": [
            "house number 123 on street named Main Street\n"
          ]
        }
      ],
      "source": [
        "print(format_address(\"123 Main Street\"))\n",
        "# Should print: \"house number 123 on street named Main Street\""
      ]
    },
    {
      "cell_type": "code",
      "execution_count": null,
      "metadata": {
        "id": "_C5FuqR7EuA5"
      },
      "outputs": [],
      "source": [
        "print(format_address(\"1001 1st Ave\"))\n",
        "# Should print: \"house number 1001 on street named 1st Ave\""
      ]
    },
    {
      "cell_type": "code",
      "execution_count": 55,
      "metadata": {
        "colab": {
          "base_uri": "https://localhost:8080/"
        },
        "id": "lCA9inDdEuA5",
        "outputId": "37a728b2-693c-4333-86d5-320fdc0ad377"
      },
      "outputs": [
        {
          "output_type": "stream",
          "name": "stdout",
          "text": [
            "house number 55 on street named North Center Drive\n"
          ]
        }
      ],
      "source": [
        "print(format_address(\"55 North Center Drive\"))\n",
        "# Should print \"house number 55 on street named North Center Drive\""
      ]
    },
    {
      "cell_type": "markdown",
      "metadata": {
        "id": "hHEUDTTVEuA5"
      },
      "source": [
        "## Done All?\n",
        "## Great Job!"
      ]
    },
    {
      "cell_type": "code",
      "execution_count": 56,
      "metadata": {
        "id": "ADlDA0MoEuA5"
      },
      "outputs": [],
      "source": []
    }
  ],
  "metadata": {
    "kernelspec": {
      "display_name": "Python 3",
      "language": "python",
      "name": "python3"
    },
    "language_info": {
      "codemirror_mode": {
        "name": "ipython",
        "version": 3
      },
      "file_extension": ".py",
      "mimetype": "text/x-python",
      "name": "python",
      "nbconvert_exporter": "python",
      "pygments_lexer": "ipython3",
      "version": "3.6.8"
    },
    "colab": {
      "provenance": []
    }
  },
  "nbformat": 4,
  "nbformat_minor": 0
}